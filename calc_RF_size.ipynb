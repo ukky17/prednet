{
 "cells": [
  {
   "cell_type": "code",
   "execution_count": 26,
   "metadata": {
    "collapsed": true
   },
   "outputs": [],
   "source": [
    "import numpy as np\n",
    "\n",
    "def temp(s1, s2, k1, k2):\n",
    "    e1 = 1 + (k1 - 1) + (k2 - 1) * s1\n",
    "    e2 = 1 + (k1 - 1) * (1 + s1 * s2) + (k2 - 1) * (s1 + s1 ** 2 * s2)\n",
    "    e3 = 1 + (k1 - 1) * (1 + s1 * s2 + s1 ** 2 * s2 ** 2) + (k2 - 1) * (s1 + s1 ** 2 * s2 + s1 ** 3 * s2 ** 2)\n",
    "    return e1, e2"
   ]
  },
  {
   "cell_type": "code",
   "execution_count": 29,
   "metadata": {},
   "outputs": [
    {
     "name": "stdout",
     "output_type": "stream",
     "text": [
      "1 8 3 8          10 82\n"
     ]
    }
   ],
   "source": [
    "for s1 in [1]:\n",
    "    for s2 in [8]:\n",
    "        for k1 in [3]:\n",
    "            for k2 in [8]:\n",
    "                e1, e2 = temp(s1, s2, k1, k2)\n",
    "\n",
    "#                 if e1 < 15 and e2 > 70 and e2 < 110:\n",
    "                print(s1, s2, k1, k2, '        ', e1, e2)"
   ]
  },
  {
   "cell_type": "code",
   "execution_count": null,
   "metadata": {
    "collapsed": true
   },
   "outputs": [],
   "source": []
  }
 ],
 "metadata": {
  "kernelspec": {
   "display_name": "Python 3",
   "language": "python",
   "name": "python3"
  },
  "language_info": {
   "codemirror_mode": {
    "name": "ipython",
    "version": 3
   },
   "file_extension": ".py",
   "mimetype": "text/x-python",
   "name": "python",
   "nbconvert_exporter": "python",
   "pygments_lexer": "ipython3",
   "version": "3.6.1"
  }
 },
 "nbformat": 4,
 "nbformat_minor": 2
}
