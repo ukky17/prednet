{
 "cells": [
  {
   "cell_type": "code",
   "execution_count": 2,
   "metadata": {
    "collapsed": true
   },
   "outputs": [],
   "source": [
    "import numpy as np\n",
    "\n",
    "def temp(s1, s2, k1, k2):\n",
    "    e1 = 1 + (k1 - 1) + (k2 - 1) * s1\n",
    "    e2 = 1 + (k1 - 1) * (1 + s1 * s2) + (k2 - 1) * (s1 + s1 ** 2 * s2)\n",
    "    e3 = 1 + (k1 - 1) * (1 + s1 * s2 + s1 ** 2 * s2 ** 2) + (k2 - 1) * (s1 + s1 ** 2 * s2 + s1 ** 3 * s2 ** 2)\n",
    "    return e1, e2, e3"
   ]
  },
  {
   "cell_type": "code",
   "execution_count": 3,
   "metadata": {},
   "outputs": [
    {
     "name": "stdout",
     "output_type": "stream",
     "text": [
      "(s1, s2, k1, k2) = (1, 7, 4, 7)  A1 RF: 10, A2 RF: 73\n",
      "(s1, s2, k1, k2) = (1, 8, 2, 8)  A1 RF: 9, A2 RF: 73\n",
      "(s1, s2, k1, k2) = (1, 8, 3, 8)  A1 RF: 10, A2 RF: 82\n",
      "(s1, s2, k1, k2) = (1, 9, 1, 9)  A1 RF: 9, A2 RF: 81\n",
      "(s1, s2, k1, k2) = (1, 9, 2, 9)  A1 RF: 10, A2 RF: 91\n",
      "(s1, s2, k1, k2) = (2, 4, 3, 4)  A1 RF: 9, A2 RF: 73\n",
      "(s1, s2, k1, k2) = (2, 4, 4, 4)  A1 RF: 10, A2 RF: 82\n",
      "(s1, s2, k1, k2) = (3, 3, 3, 3)  A1 RF: 9, A2 RF: 81\n",
      "(s1, s2, k1, k2) = (3, 3, 4, 3)  A1 RF: 10, A2 RF: 91\n",
      "(s1, s2, k1, k2) = (4, 2, 5, 2)  A1 RF: 9, A2 RF: 73\n",
      "(s1, s2, k1, k2) = (4, 2, 6, 2)  A1 RF: 10, A2 RF: 82\n"
     ]
    }
   ],
   "source": [
    "for s1 in range(10):\n",
    "    for s2 in range(2, 10):\n",
    "        for k1 in range(s1, 10):\n",
    "            for k2 in [s2]:\n",
    "                e1, e2, e3 = temp(s1, s2, k1, k2)\n",
    "\n",
    "                if e1 < 11 and e2 > 70 and e2 < 100:\n",
    "                    print('(s1, s2, k1, k2) = ' + '(' + str(s1) + ', ' + str(s2) + ', ' + str(k1) + ', ' + str(k2) + ') ', \n",
    "                          'A1 RF: ' + str(e1) + ', ' 'A2 RF: ' + str(e2))"
   ]
  },
  {
   "cell_type": "code",
   "execution_count": 4,
   "metadata": {},
   "outputs": [
    {
     "data": {
      "text/plain": [
       "(5, 17, 53)"
      ]
     },
     "execution_count": 4,
     "metadata": {},
     "output_type": "execute_result"
    }
   ],
   "source": [
    "temp(1, 3, 3, 3)"
   ]
  },
  {
   "cell_type": "code",
   "execution_count": 1,
   "metadata": {
    "collapsed": true
   },
   "outputs": [],
   "source": [
    "import numpy as np\n",
    "\n",
    "def temp_full(size):\n",
    "    j_list = [1]\n",
    "    r_list = [1]\n",
    "    for i in range(len(size)):\n",
    "        _k = size[i][0]\n",
    "        _s = size[i][1]\n",
    "        \n",
    "        j_in = j_list[-1]\n",
    "        r_in = r_list[-1]\n",
    "        \n",
    "        j_out = j_in * _s\n",
    "        r_out = r_in + (_k - 1) * j_in\n",
    "        \n",
    "        j_list.append(j_out)\n",
    "        r_list.append(r_out)\n",
    "\n",
    "    return r_list"
   ]
  },
  {
   "cell_type": "code",
   "execution_count": 125,
   "metadata": {},
   "outputs": [
    {
     "name": "stdout",
     "output_type": "stream",
     "text": [
      "1\n",
      "3\n",
      "5\n",
      "9\n",
      "23\n",
      "71\n"
     ]
    }
   ],
   "source": [
    "size = [[2, 1], [2, 1], # E0 -> E0; conv & conv\n",
    "        [2, 1], [2, 2], # E0 -> A1, E1; conv & pool\n",
    "        [2, 1], [2, 1], # E1 -> E1; conv & conv\n",
    "        [4, 4], [2, 2], # E1 -> A2, E2; conv & pool\n",
    "        [2, 1], [3, 1]] # E2 -> E2; conv & conv\n",
    "\n",
    "a = temp_full(size)\n",
    "\n",
    "for i in range(0, len(size) + 1, 2):\n",
    "    print(a[i])"
   ]
  },
  {
   "cell_type": "code",
   "execution_count": 121,
   "metadata": {
    "scrolled": true
   },
   "outputs": [
    {
     "name": "stdout",
     "output_type": "stream",
     "text": [
      "1\n",
      "3\n",
      "5\n",
      "9\n",
      "27\n",
      "75\n"
     ]
    }
   ],
   "source": [
    "size = [[2, 1], [2, 1], # E0 -> E0; conv & conv\n",
    "        [2, 1], [2, 2], # E0 -> A1, E1; conv & pool\n",
    "        [2, 1], [2, 1], # E1 -> E1; conv & conv\n",
    "        [4, 2], [4, 4], # E1 -> A2, E2; conv & pool\n",
    "        [2, 1], [3, 1]] # E2 -> E2; conv & conv\n",
    "\n",
    "a = temp_full(size)\n",
    "\n",
    "for i in range(0, len(size) + 1, 2):\n",
    "    print(a[i])"
   ]
  },
  {
   "cell_type": "code",
   "execution_count": 204,
   "metadata": {},
   "outputs": [
    {
     "name": "stdout",
     "output_type": "stream",
     "text": [
      "1\n",
      "5\n",
      "8\n",
      "16\n",
      "32\n",
      "128\n"
     ]
    }
   ],
   "source": [
    "size = [[3, 1], [3, 1], # E0 -> E0; conv & conv\n",
    "        [3, 1], [2, 2], # E0 -> A1, E1; conv & pool\n",
    "        [3, 1], [3, 1], # E1 -> E1; conv & conv\n",
    "        [3, 2], [4, 4], # E1 -> A2, E2; conv & pool\n",
    "        [4, 1], [4, 1]] # E2 -> E2; conv & conv\n",
    "\n",
    "\n",
    "\"\"\"\n",
    "190724_2: \n",
    "size = [[3, 1], [3, 1], # E0 -> E0; conv & conv\n",
    "        [3, 1], [2, 2], # E0 -> A1, E1; conv & pool\n",
    "        [3, 1], [3, 1], # E1 -> E1; conv & conv\n",
    "        [3, 1], [2, 2], # E1 -> A2, E2; conv & pool\n",
    "        [3, 1], [3, 1]] # E2 -> E2; conv & conv\n",
    "とすると、A0: 1, E0/A0hat: 5, A1: 8, E1/A1hat: 16, A2: 22, E2/A2hat: 38\n",
    "\"\"\"\n",
    "\n",
    "a = temp_full(size)\n",
    "\n",
    "for i in range(0, len(size) + 1, 2):\n",
    "    print(a[i])"
   ]
  },
  {
   "cell_type": "code",
   "execution_count": null,
   "metadata": {
    "collapsed": true
   },
   "outputs": [],
   "source": []
  }
 ],
 "metadata": {
  "kernelspec": {
   "display_name": "Python 3",
   "language": "python",
   "name": "python3"
  },
  "language_info": {
   "codemirror_mode": {
    "name": "ipython",
    "version": 3
   },
   "file_extension": ".py",
   "mimetype": "text/x-python",
   "name": "python",
   "nbconvert_exporter": "python",
   "pygments_lexer": "ipython3",
   "version": "3.6.1"
  }
 },
 "nbformat": 4,
 "nbformat_minor": 2
}
