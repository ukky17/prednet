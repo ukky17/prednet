{
 "cells": [
  {
   "cell_type": "code",
   "execution_count": 1,
   "metadata": {
    "collapsed": true
   },
   "outputs": [],
   "source": [
    "import numpy as np\n",
    "\n",
    "def temp(s1, s2, k1, k2):\n",
    "    e1 = 1 + (k1 - 1) + (k2 - 1) * s1\n",
    "    e2 = 1 + (k1 - 1) * (1 + s1 * s2) + (k2 - 1) * (s1 + s1 ** 2 * s2)\n",
    "    e3 = 1 + (k1 - 1) * (1 + s1 * s2 + s1 ** 2 * s2 ** 2) + (k2 - 1) * (s1 + s1 ** 2 * s2 + s1 ** 3 * s2 ** 2)\n",
    "    return e1, e2"
   ]
  },
  {
   "cell_type": "code",
   "execution_count": 12,
   "metadata": {},
   "outputs": [
    {
     "name": "stdout",
     "output_type": "stream",
     "text": [
      "(s1, s2, k1, k2) = (1, 7, 4, 7)  A1 RF: 10, A2 RF: 73\n",
      "(s1, s2, k1, k2) = (1, 8, 2, 8)  A1 RF: 9, A2 RF: 73\n",
      "(s1, s2, k1, k2) = (1, 8, 3, 8)  A1 RF: 10, A2 RF: 82\n",
      "(s1, s2, k1, k2) = (1, 9, 1, 9)  A1 RF: 9, A2 RF: 81\n",
      "(s1, s2, k1, k2) = (1, 9, 2, 9)  A1 RF: 10, A2 RF: 91\n",
      "(s1, s2, k1, k2) = (2, 4, 3, 4)  A1 RF: 9, A2 RF: 73\n",
      "(s1, s2, k1, k2) = (2, 4, 4, 4)  A1 RF: 10, A2 RF: 82\n",
      "(s1, s2, k1, k2) = (3, 3, 3, 3)  A1 RF: 9, A2 RF: 81\n",
      "(s1, s2, k1, k2) = (3, 3, 4, 3)  A1 RF: 10, A2 RF: 91\n",
      "(s1, s2, k1, k2) = (4, 2, 5, 2)  A1 RF: 9, A2 RF: 73\n",
      "(s1, s2, k1, k2) = (4, 2, 6, 2)  A1 RF: 10, A2 RF: 82\n"
     ]
    }
   ],
   "source": [
    "for s1 in range(10):\n",
    "    for s2 in range(2, 10):\n",
    "        for k1 in range(s1, 10):\n",
    "            for k2 in [s2]:\n",
    "                e1, e2 = temp(s1, s2, k1, k2)\n",
    "\n",
    "                if e1 < 11 and e2 > 70 and e2 < 100:\n",
    "                    print('(s1, s2, k1, k2) = ' + '(' + str(s1) + ', ' + str(s2) + ', ' + str(k1) + ', ' + str(k2) + ') ', \n",
    "                          'A1 RF: ' + str(e1) + ', ' 'A2 RF: ' + str(e2))"
   ]
  },
  {
   "cell_type": "code",
   "execution_count": null,
   "metadata": {
    "collapsed": true
   },
   "outputs": [],
   "source": []
  }
 ],
 "metadata": {
  "kernelspec": {
   "display_name": "Python 3",
   "language": "python",
   "name": "python3"
  },
  "language_info": {
   "codemirror_mode": {
    "name": "ipython",
    "version": 3
   },
   "file_extension": ".py",
   "mimetype": "text/x-python",
   "name": "python",
   "nbconvert_exporter": "python",
   "pygments_lexer": "ipython3",
   "version": "3.6.1"
  }
 },
 "nbformat": 4,
 "nbformat_minor": 2
}
