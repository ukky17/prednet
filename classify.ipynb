{
 "cells": [
  {
   "cell_type": "code",
   "execution_count": 1,
   "metadata": {},
   "outputs": [
    {
     "name": "stderr",
     "output_type": "stream",
     "text": [
      "/home/ukita/.pyenv/versions/anaconda3-4.4.0/lib/python3.6/site-packages/h5py/__init__.py:34: FutureWarning: Conversion of the second argument of issubdtype from `float` to `np.floating` is deprecated. In future, it will be treated as `np.float64 == np.dtype(float).type`.\n",
      "  from ._conv import register_converters as _register_converters\n"
     ]
    }
   ],
   "source": [
    "import os\n",
    "import argparse\n",
    "\n",
    "import numpy as np\n",
    "from scipy import stats\n",
    "from six.moves import cPickle\n",
    "import hickle\n",
    "from tqdm import tqdm\n",
    "\n",
    "import matplotlib\n",
    "import matplotlib.pyplot as plt\n",
    "import matplotlib.gridspec as gridspec\n",
    "\n",
    "import matplotlib as mpl\n",
    "mpl.rcParams['figure.figsize'] = [8.0, 6.0]\n",
    "mpl.rcParams['font.size'] = 20\n",
    "mpl.rcParams['xtick.labelsize'] = 16\n",
    "mpl.rcParams['ytick.labelsize'] = 16\n",
    "mpl.rcParams['font.sans-serif'] = 'Arial'\n",
    "mpl.rcParams['axes.spines.top'] = False\n",
    "mpl.rcParams['axes.spines.right'] = False\n",
    "plt.rcParams['ps.useafm'] = True\n",
    "plt.rcParams['pdf.use14corefonts'] = True\n",
    "\n",
    "pre_frames = 10 # 50\n",
    "stim_frames = 20 # 80\n",
    "post_frames = 20 # 100\n",
    "\n",
    "n_movies = 100\n",
    "batch_size = 1\n",
    "\n",
    "SAVE_DIR = './response/190724_11/'"
   ]
  },
  {
   "cell_type": "code",
   "execution_count": 2,
   "metadata": {
    "collapsed": true
   },
   "outputs": [],
   "source": [
    "def classify(resp):\n",
    "    \"\"\"\n",
    "    resp: (2, n_movies, nt, n_units)\n",
    "    \"\"\"\n",
    "\n",
    "    ramping_idx = [] # rampup cell\n",
    "    ma_idx = [] # motion aftereffect cell\n",
    "    ma_idx_sep = [[], []]\n",
    "    error_idx = [] # pred error cell\n",
    "    motion_idx = [] # motion cell\n",
    "    motion_idx_sep = [[], []]\n",
    "    flat_idx = [] # non-responsive cell\n",
    " \n",
    "    nt2 = stim_frames + post_frames  \n",
    " \n",
    "    # responsiveness\n",
    "    resp_mean = np.mean(resp, axis=1) # (2, nt, n_units)\n",
    "    resp_std = np.std(resp, axis=1) # (2, nt, n_units)\n",
    "    \n",
    "    base_mean = np.mean(resp_mean[:, pre_frames // 2: pre_frames, :], axis=1, keepdims=True) # (2, 1, n_units)\n",
    "    base_std =  np.mean(resp_std[:,  pre_frames // 2: pre_frames, :], axis=1, keepdims=True) # (2, 1, n_units)\n",
    "    \n",
    "    \"\"\"\n",
    "    # non-responsive cell\n",
    "    sign = (np.abs(resp_mean[:, pre_frames:, :] - base_mean) > (resp_std[:, pre_frames:, :] + base_std) * 0.5) # (2, 180, n_units)\n",
    "    c = np.sum(sign, axis=1) < nt2 * 0.1 # (2, n_units)\n",
    "    flat_idx = np.where(np.sum(c, axis=0) == n_stims)[0]\"\"\"\n",
    "    \n",
    "    d_resp = np.abs(resp_mean[:, pre_frames:, :] - base_mean)\n",
    "    d_resp = np.where(d_resp > (resp_std[:, pre_frames:, :] + base_std) * 0.5, d_resp, 0) # (2, 180, n_units)\n",
    "    \n",
    "    # non-responsive cell\n",
    "    c = np.sum(d_resp != 0, axis=1) < nt2 * 0.1 # (2, n_units)\n",
    "    flat_idx = np.where(np.sum(c, axis=0) == n_stims)[0]\n",
    "    non_flat_idx = [c for c in range(d_resp.shape[2]) if c not in flat_idx]\n",
    "    \n",
    "    # standardization\n",
    "    # d_resp[:, :, non_flat_idx] -= np.mean(d_resp[:, :, non_flat_idx], axis=-1, keepdims=True)\n",
    "    # d_resp[:, :, non_flat_idx] /= np.std(d_resp[:, :, non_flat_idx], axis=-1, keepdims=True)\n",
    "\n",
    "    for idx in tqdm(non_flat_idx):\n",
    "        _resp = d_resp[:, :, idx] # (2, 180)\n",
    "        \n",
    "        # error cell\n",
    "        m1 = np.mean(_resp[:, :2], axis=-1)\n",
    "        m2 = np.mean(_resp[:, stim_frames: stim_frames + 2], axis=-1)\n",
    "        m3 = np.mean(_resp[:, list(range(2, stim_frames)) + list(range(stim_frames + 2, nt2))], axis=-1) # base\n",
    "        if np.sum(np.logical_or(m1 > 4 * m3, m2 > 4 * m3)):\n",
    "            error_idx.append(idx)            \n",
    "        # if np.where(_resp == np.max(_resp))[1][0] in [0, 1, stim_frames, stim_frames+1]:\n",
    "        #     error_idx.append(idx)\n",
    "\n",
    "        m1 = np.sum(_resp[0, :stim_frames])\n",
    "        m2 = np.sum(_resp[0, stim_frames:])\n",
    "        m3 = np.sum(_resp[1, :stim_frames])\n",
    "        m4 = np.sum(_resp[1, stim_frames:])\n",
    "        if n_stims == 4:\n",
    "            m5 = np.sum(_resp[2, :stim_frames])\n",
    "            m6 = np.sum(_resp[2, stim_frames:])\n",
    "            m7 = np.sum(_resp[3, :stim_frames])\n",
    "            m8 = np.sum(_resp[3, stim_frames:])\n",
    "\n",
    "        # ramp cell\n",
    "        resp_smooth = np.mean(_resp.reshape((n_stims, 10, nt2 // 10)), axis=-1) # (2, 10)\n",
    "        d = np.diff(resp_smooth, axis=-1) # (2, 9)\n",
    "        s = np.sign(d)[:, :4]\n",
    "        if np.sum(np.sum(s == 1, axis=-1) >= 3):\n",
    "            ramping_idx.append(idx)\n",
    "\n",
    "        # motion cell \n",
    "        else:\n",
    "            if n_stims == 4:\n",
    "                if (m1 > m2 * 2 and m1 > m3 * 2 and m1 > m4 * 2) or \\\n",
    "                   (m3 > m4 * 2 and m3 > m1 * 2 and m3 > m2 * 2) or \\\n",
    "                   (m5 > m6 * 2 and m5 > m7 * 2 and m5 > m8 * 2) or \\\n",
    "                   (m7 > m8 * 2 and m7 > m5 * 2 and m7 > m6 * 2):\n",
    "                    motion_idx.append(idx)\n",
    "            elif n_stims == 2:\n",
    "                if (m1 > m2 * 2 and m1 > m3 * 2 and m1 > m4 * 2):\n",
    "                    motion_idx_sep[0].append(idx)\n",
    "                    motion_idx.append(idx)\n",
    "                if (m3 > m4 * 2 and m3 > m1 * 2 and m3 > m2 * 2):\n",
    "                    motion_idx_sep[1].append(idx)\n",
    "                    motion_idx.append(idx)\n",
    "                    \n",
    "        # after motion cell\n",
    "        if n_stims == 4:\n",
    "            if (m1 > m3 * 2 and m4 > m2 * 2) or (m3 > m1 * 2 and m2 > m4 * 2) or \\\n",
    "               (m5 > m7 * 2 and m8 > m6 * 2) or (m7 > m5 * 2 and m6 > m8 * 2):\n",
    "                ma_idx.append(idx)\n",
    "        elif n_stims == 2:\n",
    "            if (m1 > m3 * 2 and m4 > m2 * 2):\n",
    "                ma_idx_sep[0].append(idx)\n",
    "                ma_idx.append(idx)\n",
    "            if (m3 > m1 * 2 and m2 > m4 * 2):\n",
    "                ma_idx_sep[1].append(idx)\n",
    "                ma_idx.append(idx)\n",
    "    return d_resp, flat_idx, ramping_idx, ma_idx, error_idx, motion_idx, motion_idx_sep, ma_idx_sep"
   ]
  },
  {
   "cell_type": "code",
   "execution_count": 3,
   "metadata": {
    "scrolled": false
   },
   "outputs": [
    {
     "name": "stderr",
     "output_type": "stream",
     "text": [
      "100%|██████████| 100/100 [00:07<00:00, 12.54it/s]\n"
     ]
    },
    {
     "name": "stdout",
     "output_type": "stream",
     "text": [
      "(2, 100, 50, 32256)\n"
     ]
    },
    {
     "name": "stderr",
     "output_type": "stream",
     "text": [
      "100%|██████████| 4846/4846 [00:00<00:00, 9596.21it/s]\n",
      "100%|██████████| 100/100 [00:05<00:00, 16.15it/s]\n"
     ]
    },
    {
     "name": "stdout",
     "output_type": "stream",
     "text": [
      "(2, 100, 50, 16128)\n"
     ]
    },
    {
     "name": "stderr",
     "output_type": "stream",
     "text": [
      "100%|██████████| 4011/4011 [00:00<00:00, 9575.06it/s]\n",
      "100%|██████████| 100/100 [00:07<00:00, 19.21it/s]\n"
     ]
    },
    {
     "name": "stdout",
     "output_type": "stream",
     "text": [
      "(2, 100, 50, 16128)\n"
     ]
    },
    {
     "name": "stderr",
     "output_type": "stream",
     "text": [
      "100%|██████████| 894/894 [00:00<00:00, 7841.59it/s]\n",
      "100%|██████████| 100/100 [00:04<00:00, 21.30it/s]\n"
     ]
    },
    {
     "name": "stdout",
     "output_type": "stream",
     "text": [
      "(2, 100, 50, 16128)\n"
     ]
    },
    {
     "name": "stderr",
     "output_type": "stream",
     "text": [
      "100%|██████████| 16005/16005 [00:01<00:00, 9806.26it/s]"
     ]
    },
    {
     "name": "stdout",
     "output_type": "stream",
     "text": [
      "69.06727197688815\n",
      "24.948411060668594\n",
      "21.00701609574907\n",
      "43.31407346264961\n",
      "\n",
      "70.23186237845924\n",
      "24.707055597107953\n",
      "22.68760907504363\n",
      "44.951383694839194\n",
      "\n",
      "63.08724832214765\n",
      "25.727069351230426\n",
      "14.093959731543624\n",
      "30.87248322147651\n",
      "\n",
      "18.22555451421431\n",
      "50.32177444548579\n",
      "3.542642924086223\n",
      "20.937207122774133\n",
      "\n"
     ]
    },
    {
     "name": "stderr",
     "output_type": "stream",
     "text": [
      "\n"
     ]
    }
   ],
   "source": [
    "n_stims = 2\n",
    "analyze_all = True\n",
    "# targets = ['E0', 'E1', 'E2', 'R0', 'R1', 'R2', 'A0', 'A1', 'A2', 'Ahat0', 'Ahat1', 'Ahat2']\n",
    "targets = ['E2', 'A2', 'Ahat2', 'R2']\n",
    "# targets = ['E0', 'A0', 'Ahat0']\n",
    "# taregets = ['E1', 'A1', 'Ahat1']\n",
    "# targets = ['E2']\n",
    "\n",
    "cell_dict = {}\n",
    "for target in targets:\n",
    "    # load all data\n",
    "    for n in tqdm(range(n_movies // batch_size)):\n",
    "        resp_deg0 = hickle.load(SAVE_DIR + 'MAE_P_deg0_' + target + '_' + str(n) + '.hkl') # (batch_size, 230, 12, 14, 192)\n",
    "        resp_deg180 = hickle.load(SAVE_DIR + 'MAE_P_deg180_' + target + '_' + str(n) + '.hkl')\n",
    "        if n_stims == 4:\n",
    "            resp_deg90 = hickle.load(SAVE_DIR + 'MAE_P_deg90_' + target + '_' + str(n) + '.hkl')\n",
    "            resp_deg270 = hickle.load(SAVE_DIR + 'MAE_P_deg270_' + target + '_' + str(n) + '.hkl')\n",
    "            \n",
    "        if n == 0:\n",
    "            resp = np.zeros((n_stims, n_movies, ) + resp_deg0.shape[1:]) # (2, 100, 230, 12, 14, 192)\n",
    "            \n",
    "        resp[0, n * batch_size: (n+1) * batch_size] = resp_deg0\n",
    "        resp[1, n * batch_size: (n+1) * batch_size] = resp_deg180\n",
    "        if n_stims == 4:\n",
    "            resp[2, n * batch_size: (n+1) * batch_size] = resp_deg90\n",
    "            resp[3, n * batch_size: (n+1) * batch_size] = resp_deg270\n",
    "\n",
    "    # omit the pre frame\n",
    "    # resp_ind = np.mean(resp, axis=1)[:, pre_frames:] # (2, 180, 12, 14, 192)\n",
    "        \n",
    "    # reshape\n",
    "    if analyze_all:\n",
    "        # analyze all units\n",
    "        n_units = resp.shape[3] * resp.shape[4] * resp.shape[5]\n",
    "        nt = resp.shape[2]\n",
    "        resp = resp.reshape((n_stims, n_movies, nt, n_units))\n",
    "    else:\n",
    "        # analyze center units\n",
    "        n_units = resp.shape[-1]\n",
    "        resp = resp[:, :, :, resp.shape[3]//2, resp.shape[4]//2, :]\n",
    "\n",
    "    \"\"\"if 'R' in target:\n",
    "        tmp1 = np.clip(resp, 0, None)\n",
    "        tmp2 = np.clip(resp, None, 0) * -1\n",
    "        resp = np.concatenate((tmp1, tmp2), axis=-1)\"\"\"\n",
    "\n",
    "    print(resp.shape) # (2, 100, 230, n_units)\n",
    "        \n",
    "    d_resp, flat_idx, ramping_idx, ma_idx, error_idx, motion_idx, motion_idx_sep, ma_idx_sep = classify(resp)\n",
    "    cell_dict[target] = [n_units, flat_idx, ramping_idx, ma_idx, error_idx, motion_idx, motion_idx_sep, ma_idx_sep]\n",
    "    \n",
    "# summary\n",
    "n_cells = np.zeros((len(targets), 6))\n",
    "for i, target in enumerate(targets):\n",
    "    n_cells[i][0] = cell_dict[target][0]\n",
    "    for j in range(1, 6):\n",
    "        n_cells[i][j] = len(cell_dict[target][j])\n",
    "        \n",
    "for i in range(len(n_cells)):\n",
    "    n1 = n_cells[i, 0] - n_cells[i, 1] - n_cells[i, 4]\n",
    "    n2 = n_cells[i, 0] - n_cells[i, 1]\n",
    "    print(n_cells[i, 4] / n2 * 100) # error\n",
    "    print(n_cells[i, 2] / n2 * 100) # ramp\n",
    "    print(n_cells[i, 3] / n2 * 100) # ma\n",
    "    print(n_cells[i, 5] / n2 * 100) # motion\n",
    "    print()"
   ]
  },
  {
   "cell_type": "markdown",
   "metadata": {},
   "source": [
    "### save"
   ]
  },
  {
   "cell_type": "code",
   "execution_count": 4,
   "metadata": {
    "collapsed": true
   },
   "outputs": [],
   "source": [
    "if analyze_all:\n",
    "    hickle.dump(cell_dict, SAVE_DIR + 'cell_dict.hkl')\n",
    "else:\n",
    "    hickle.dump(cell_dict, SAVE_DIR + 'cell_dict_center.hkl')"
   ]
  },
  {
   "cell_type": "markdown",
   "metadata": {},
   "source": [
    "### analyze ramp-up cells"
   ]
  },
  {
   "cell_type": "code",
   "execution_count": 4,
   "metadata": {
    "collapsed": true
   },
   "outputs": [],
   "source": [
    "mpl.rcParams['font.size'] = 12\n",
    "mpl.rcParams['xtick.labelsize'] = 12\n",
    "mpl.rcParams['ytick.labelsize'] = 12\n",
    "\n",
    "idxs = np.array([1,2,5,6,7,14,15,16,18,20,22,23,24,26,28,29,30,32,34,35])\n",
    "targets_all = np.array(ramping_idx)[idxs]\n",
    "nt2 = stim_frames + post_frames  \n",
    "\n",
    "targets1 = []\n",
    "targets2 = []\n",
    "for cell in targets_all:\n",
    "    counter = 0\n",
    "    \n",
    "    for t in range(100):\n",
    "        _resp = resp[0, t, pre_frames:, cell] # (50, )\n",
    "                \n",
    "        resp_smooth = np.mean(_resp.reshape((10, nt2 // 10)), axis=-1) # (10)\n",
    "        d = np.diff(resp_smooth) # (9)\n",
    "        s = np.sign(d)[:4]\n",
    "        if np.sum(s == 1) >= 3:\n",
    "            counter += 1\n",
    "\n",
    "    if counter <= 50:\n",
    "        targets1.append(cell)\n",
    "    else:\n",
    "        targets2.append(cell)"
   ]
  },
  {
   "cell_type": "code",
   "execution_count": 6,
   "metadata": {},
   "outputs": [
    {
     "name": "stderr",
     "output_type": "stream",
     "text": [
      "/home/ukita/.pyenv/versions/anaconda3-4.4.0/lib/python3.6/site-packages/matplotlib/font_manager.py:1320: UserWarning: findfont: Font family ['sans-serif'] not found. Falling back to DejaVu Sans\n",
      "  (prop.get_family(), self.defaultFamily[fontext]))\n",
      "/home/ukita/.pyenv/versions/anaconda3-4.4.0/lib/python3.6/site-packages/matplotlib/font_manager.py:1320: UserWarning: findfont: Font family ['sans-serif'] not found. Falling back to Helvetica\n",
      "  (prop.get_family(), self.defaultFamily[fontext]))\n"
     ]
    }
   ],
   "source": [
    "fig = plt.figure(figsize=(20, 20))\n",
    "for i, c in enumerate(targets1 + targets2):\n",
    "    x = np.arange(0, nt)\n",
    "    ax = plt.subplot(10, 10, i+1)\n",
    "    for t in range(5):\n",
    "        ax.plot(x, resp[0, t, :, c], linewidth=0.75)\n",
    "    ax.axvspan(pre_frames, pre_frames + stim_frames - 0.5, facecolor='g', alpha=0.1)\n",
    "    plt.setp(ax.get_xticklabels(), visible=False)\n",
    "    ax.set_xticks(np.arange(0, nt, 10))\n",
    "    ax.set_title('Cell ' + str(c))\n",
    "\n",
    "plt.tight_layout()\n",
    "plt.savefig(SAVE_DIR + 'single_trial_ind.png')\n",
    "plt.savefig(SAVE_DIR + 'single_trial_ind.pdf')\n",
    "plt.close()\n",
    "\n",
    "# plot trial-averaged timecourses\n",
    "fig = plt.figure(figsize=(20, 20))\n",
    "for i, c in enumerate(targets1 + targets2):\n",
    "    _resp1 = np.mean(resp[0, :, :, c], axis=0)\n",
    "    error1 = np.std(resp[0, :, :, c], axis=0) / 2\n",
    "    x = np.arange(0, nt)\n",
    "\n",
    "    ax = plt.subplot(10, 10, i+1)\n",
    "    ax.plot(x, _resp1, 'm-')\n",
    "    ax.fill_between(x, _resp1 - error1, _resp1 + error1, facecolor=(1,0,1,0.5), edgecolor=(1,0,1,0.5))\n",
    "    ax.axvspan(pre_frames, pre_frames + stim_frames - 0.5, facecolor='g', alpha=0.1)\n",
    "    plt.setp(ax.get_xticklabels(), visible=False)\n",
    "    ax.set_xticks(np.arange(0, nt, 10))\n",
    "    ax.set_title('Cell ' + str(c))\n",
    "\n",
    "plt.tight_layout()\n",
    "plt.savefig(SAVE_DIR + 'single_trial_taverage.png')\n",
    "plt.savefig(SAVE_DIR + 'single_trial_taverage.pdf')\n",
    "plt.close()\n",
    "\n",
    "\n",
    "# plot cell-averaged timecourses (targets1)\n",
    "fig = plt.figure(figsize=(20, 20))\n",
    "for i, t in enumerate(range(20)):\n",
    "    _resp1 = np.mean(resp[0, t][:, np.array(targets1)], axis=-1)\n",
    "    x = np.arange(0, nt)\n",
    "\n",
    "    ax = plt.subplot(10, 10, i+1)\n",
    "    ax.plot(x, _resp1, 'm-')\n",
    "    ax.axvspan(pre_frames, pre_frames + stim_frames - 0.5, facecolor='g', alpha=0.1)\n",
    "    plt.setp(ax.get_xticklabels(), visible=False)\n",
    "    ax.set_xticks(np.arange(0, nt, 10))\n",
    "    ax.set_title('Trial ' + str(t))\n",
    "\n",
    "plt.tight_layout()\n",
    "plt.savefig(SAVE_DIR + 'single_trial_caverage1.png')\n",
    "plt.savefig(SAVE_DIR + 'single_trial_caverage1.pdf')\n",
    "plt.close()\n",
    "\n",
    "# plot cell-averaged timecourses (targets2)\n",
    "fig = plt.figure(figsize=(20, 20))\n",
    "for i, t in enumerate(range(20)):\n",
    "    _resp1 = np.mean(resp[0, t][:, np.array(targets2)], axis=-1)\n",
    "    x = np.arange(0, nt)\n",
    "\n",
    "    ax = plt.subplot(10, 10, i+1)\n",
    "    ax.plot(x, _resp1, 'm-')\n",
    "    ax.axvspan(pre_frames, pre_frames + stim_frames - 0.5, facecolor='g', alpha=0.1)\n",
    "    plt.setp(ax.get_xticklabels(), visible=False)\n",
    "    ax.set_xticks(np.arange(0, nt, 10))\n",
    "    ax.set_title('Trial ' + str(t))\n",
    "\n",
    "plt.tight_layout()\n",
    "plt.savefig(SAVE_DIR + 'single_trial_caverage2.png')\n",
    "plt.savefig(SAVE_DIR + 'single_trial_caverage2.pdf')\n",
    "plt.close()"
   ]
  },
  {
   "cell_type": "markdown",
   "metadata": {},
   "source": [
    "### analyze the correlation b/w motion and ma cells"
   ]
  },
  {
   "cell_type": "code",
   "execution_count": 4,
   "metadata": {
    "collapsed": true
   },
   "outputs": [],
   "source": [
    "motion_idx_sep = cell_dict['E2'][6]\n",
    "ma_idx_sep = cell_dict['E2'][7]"
   ]
  },
  {
   "cell_type": "code",
   "execution_count": 9,
   "metadata": {},
   "outputs": [
    {
     "name": "stderr",
     "output_type": "stream",
     "text": [
      "/home/ukita/.pyenv/versions/anaconda3-4.4.0/lib/python3.6/site-packages/matplotlib/font_manager.py:1320: UserWarning: findfont: Font family ['sans-serif'] not found. Falling back to DejaVu Sans\n",
      "  (prop.get_family(), self.defaultFamily[fontext]))\n"
     ]
    },
    {
     "data": {
      "image/png": "[encoded data removed]",
      "text/plain": [
       "<matplotlib.figure.Figure at 0x7f9e935af278>"
      ]
     },
     "metadata": {},
     "output_type": "display_data"
    },
    {
     "name": "stdout",
     "output_type": "stream",
     "text": [
      "(0.16555667634728363, 0.09973640214389284)\n"
     ]
    }
   ],
   "source": [
    "r = resp[0]\n",
    "\n",
    "# activities of motion cells during motion, averaged across cell\n",
    "r1 = r[:, np.arange(10, 30), :]\n",
    "r1 = r1[:, :, np.array(motion_idx_sep[0])]\n",
    "r1 = np.mean(r1, axis=(1, 2))\n",
    "\n",
    "# activities of MA cells during after-motion, averaged across cell\n",
    "r2 = r[:, np.arange(30, 50), :]\n",
    "r2 = r2[:, :, np.array(ma_idx_sep[1])]\n",
    "r2 = np.mean(r2, axis=(1, 2))\n",
    "\n",
    "plt.figure()\n",
    "plt.scatter(r1, r2)\n",
    "plt.xlim([0.03, 0.036])\n",
    "plt.ylim([0.015, 0.022])\n",
    "plt.xlabel('R1')\n",
    "plt.ylabel('R2')\n",
    "plt.show()\n",
    "print(stats.pearsonr(r1, r2))"
   ]
  },
  {
   "cell_type": "code",
   "execution_count": 15,
   "metadata": {},
   "outputs": [
    {
     "name": "stderr",
     "output_type": "stream",
     "text": [
      "/home/ukita/.pyenv/versions/anaconda3-4.4.0/lib/python3.6/site-packages/matplotlib/font_manager.py:1320: UserWarning: findfont: Font family ['sans-serif'] not found. Falling back to DejaVu Sans\n",
      "  (prop.get_family(), self.defaultFamily[fontext]))\n"
     ]
    },
    {
     "data": {
      "image/png": "[encoded data removed]",
      "text/plain": [
       "<matplotlib.figure.Figure at 0x7f6f51a51550>"
      ]
     },
     "metadata": {},
     "output_type": "display_data"
    },
    {
     "name": "stdout",
     "output_type": "stream",
     "text": [
      "(0.22730133217740844, 0.022948423541939912)\n"
     ]
    }
   ],
   "source": [
    "r = resp[1]\n",
    "\n",
    "# activities of motion cells during motion, averaged across cell\n",
    "r1 = r[:, np.arange(10, 30), :]\n",
    "r1 = r1[:, :, np.array(motion_idx_sep[1])]\n",
    "r1 = np.mean(r1[:-5], axis=(1, 2))\n",
    "\n",
    "# activities of MA cells during after-motion, averaged across cell\n",
    "r2 = r[:, np.arange(30, 50), :]\n",
    "r2 = r2[:, :, np.array(ma_idx_sep[0])]\n",
    "r2 = np.mean(r2, axis=(1, 2))\n",
    "\n",
    "plt.figure()\n",
    "plt.scatter(r1, r2)\n",
    "plt.xlim([0.038, 0.05])\n",
    "plt.ylim([0.01, 0.015])\n",
    "plt.xlabel('R3')\n",
    "plt.ylabel('R4')\n",
    "plt.show()\n",
    "print(stats.pearsonr(r1, r2))"
   ]
  },
  {
   "cell_type": "markdown",
   "metadata": {},
   "source": [
    "### plot"
   ]
  },
  {
   "cell_type": "code",
   "execution_count": 7,
   "metadata": {
    "collapsed": true
   },
   "outputs": [],
   "source": [
    "def plot_one(idx, space):\n",
    "    _resp1 = np.mean(resp[0, :, :, idx], axis=0)\n",
    "    error1 = np.std(resp[0, :, :, idx], axis=0) / 2\n",
    "    _resp2 = np.mean(resp[1, :, :, idx], axis=0)\n",
    "    error2 = np.std(resp[1, :, :, idx], axis=0) / 2\n",
    "    x = np.arange(0, nt)\n",
    "\n",
    "    ax = plt.subplot(10, 10, space)\n",
    "    ax.plot(x, _resp1, 'm-')\n",
    "    ax.fill_between(x, _resp1 - error1, _resp1 + error1, facecolor=(1,0,1,0.5), edgecolor=(1,0,1,0.5))\n",
    "    ax.plot(x, _resp2, 'c-')\n",
    "    ax.fill_between(x, _resp2 - error2, _resp2 + error2, facecolor=(0,1,1,0.5), edgecolor=(0,1,1,0.5))\n",
    "    ax.axvspan(pre_frames, pre_frames + stim_frames - 0.5, facecolor='g', alpha=0.1)\n",
    "    plt.setp(ax.get_xticklabels(), visible=False)\n",
    "    ax.set_xticks(np.arange(0, nt, 10))\n",
    "\n",
    "    # title = str(idx)\n",
    "    title = ''\n",
    "    if idx in ramping_idx:\n",
    "        title += 'r'\n",
    "    if idx in ma_idx:\n",
    "        title += 'a'\n",
    "    if idx in motion_idx:\n",
    "        title += 'm'\n",
    "    if idx in error_idx:\n",
    "        title += 'e'\n",
    "    ax.set_title(title, fontsize=16)\n",
    "\n",
    "def plotter(idxs, start):\n",
    "    for i in range(20):\n",
    "        plot_one(idxs[i], start+i)\n",
    "        \n",
    "def plot_one_tmp(idx, space):\n",
    "    x = np.arange(0, stim_frames + post_frames)\n",
    "    ax = plt.subplot(10, 10, space)\n",
    "    ax.plot(x, d_resp[0, :, idx], 'm-')\n",
    "    ax.plot(x, d_resp[1, :, idx], 'c-')\n",
    "    ax.axvspan(0, stim_frames - 0.5, facecolor='g', alpha=0.1)\n",
    "    plt.setp(ax.get_xticklabels(), visible=False)\n",
    "    ax.set_xticks(np.arange(0, nt, 10))\n",
    "\n",
    "    # title = str(idx)\n",
    "    title = ''\n",
    "    if idx in ramping_idx:\n",
    "        title += 'r'\n",
    "    if idx in ma_idx:\n",
    "        title += 'a'\n",
    "    if idx in motion_idx:\n",
    "        title += 'm'\n",
    "    if idx in error_idx:\n",
    "        title += 'e'\n",
    "    ax.set_title(title, fontsize=16)"
   ]
  },
  {
   "cell_type": "code",
   "execution_count": 8,
   "metadata": {},
   "outputs": [
    {
     "name": "stderr",
     "output_type": "stream",
     "text": [
      "/home/ukita/.pyenv/versions/anaconda3-4.4.0/lib/python3.6/site-packages/matplotlib/font_manager.py:1320: UserWarning: findfont: Font family ['sans-serif'] not found. Falling back to DejaVu Sans\n",
      "  (prop.get_family(), self.defaultFamily[fontext]))\n",
      "/home/ukita/.pyenv/versions/anaconda3-4.4.0/lib/python3.6/site-packages/matplotlib/font_manager.py:1320: UserWarning: findfont: Font family ['sans-serif'] not found. Falling back to Helvetica\n",
      "  (prop.get_family(), self.defaultFamily[fontext]))\n"
     ]
    }
   ],
   "source": [
    "fig = plt.figure(figsize=(20, 20))\n",
    "plotter(error_idx, 1)\n",
    "plotter(ramping_idx, 21)\n",
    "plotter(ma_idx, 41)\n",
    "plotter(motion_idx, 61)\n",
    "plt.tight_layout()\n",
    "plt.savefig(SAVE_DIR + 'tc_eachgroup.png')\n",
    "plt.savefig(SAVE_DIR + 'tc_eachgroup.pdf')\n",
    "plt.close()"
   ]
  },
  {
   "cell_type": "code",
   "execution_count": 9,
   "metadata": {},
   "outputs": [
    {
     "name": "stderr",
     "output_type": "stream",
     "text": [
      "/home/ukita/.pyenv/versions/anaconda3-4.4.0/lib/python3.6/site-packages/matplotlib/font_manager.py:1320: UserWarning: findfont: Font family ['sans-serif'] not found. Falling back to DejaVu Sans\n",
      "  (prop.get_family(), self.defaultFamily[fontext]))\n",
      "/home/ukita/.pyenv/versions/anaconda3-4.4.0/lib/python3.6/site-packages/matplotlib/font_manager.py:1320: UserWarning: findfont: Font family ['sans-serif'] not found. Falling back to Helvetica\n",
      "  (prop.get_family(), self.defaultFamily[fontext]))\n"
     ]
    }
   ],
   "source": [
    "fig = plt.figure(figsize=(20, 20))\n",
    "\n",
    "i = 100\n",
    "plotted = 0\n",
    "while True:\n",
    "    if i not in flat_idx:\n",
    "        plot_one(i, plotted + 1)        \n",
    "        plotted += 1\n",
    "        if plotted == 100:\n",
    "            break\n",
    "    i += 1\n",
    "    \n",
    "plt.tight_layout()\n",
    "plt.savefig(SAVE_DIR + 'tc.png')\n",
    "plt.savefig(SAVE_DIR + 'tc.pdf')\n",
    "plt.close()"
   ]
  },
  {
   "cell_type": "markdown",
   "metadata": {
    "collapsed": true
   },
   "source": [
    "# connection"
   ]
  },
  {
   "cell_type": "code",
   "execution_count": 81,
   "metadata": {
    "collapsed": true
   },
   "outputs": [],
   "source": [
    "from keras.models import Model, model_from_json\n",
    "from prednet import PredNet\n",
    "\n",
    "WEIGHTS_DIR = './model/190724_11/'\n",
    "\n",
    "weights_file = os.path.join(WEIGHTS_DIR, 'prednet_kitti_weights.hdf5')\n",
    "json_file = os.path.join(WEIGHTS_DIR, 'prednet_kitti_model.json')\n",
    "\n",
    "# Load trained model\n",
    "f = open(json_file, 'r')\n",
    "json_string = f.read()\n",
    "f.close()\n",
    "train_model = model_from_json(json_string, custom_objects = {'PredNet': PredNet})\n",
    "train_model.load_weights(weights_file)"
   ]
  },
  {
   "cell_type": "code",
   "execution_count": 83,
   "metadata": {
    "collapsed": true
   },
   "outputs": [],
   "source": [
    "w = train_model.get_weights()\n",
    "\n",
    "for i in range(len(w)):\n",
    "    print(w[i].shape) # ['a', 'ahat', 'c', 'f', 'i', 'o'] order"
   ]
  },
  {
   "cell_type": "markdown",
   "metadata": {
    "collapsed": true
   },
   "source": [
    "# Ramp cells in A0"
   ]
  },
  {
   "cell_type": "code",
   "execution_count": 5,
   "metadata": {
    "collapsed": true
   },
   "outputs": [],
   "source": [
    "target = 'A0'\n",
    "cell_dict = hickle.load(SAVE_DIR + 'cell_dict.hkl')\n",
    "n_stims = 2"
   ]
  },
  {
   "cell_type": "code",
   "execution_count": 6,
   "metadata": {
    "collapsed": true
   },
   "outputs": [],
   "source": [
    "resp_deg0 = hickle.load(SAVE_DIR + 'MAE_P_deg0_' + target + '.hkl') # (10, 50, 12, 14, 192)\n",
    "resp_deg180 = hickle.load(SAVE_DIR + 'MAE_P_deg180_' + target + '.hkl')\n",
    "\n",
    "resp = np.zeros((n_stims, ) + resp_deg0.shape) # (4, 10, 50, 12, 14, 192)\n",
    "resp[0] = resp_deg0\n",
    "resp[1] = resp_deg180\n",
    "\n",
    "# omit the pre frame\n",
    "resp_ind = np.mean(resp, axis=1)[:, pre_frames:] # (4, 40, 12, 14, 192)\n",
    "\n",
    "# reshape\n",
    "# analyze all units\n",
    "n_units = resp_ind.shape[2] * resp_ind.shape[3] * resp_ind.shape[4]\n",
    "nt = resp_ind.shape[1]\n",
    "resp_ind_new = resp_ind.reshape((n_stims, nt, n_units))"
   ]
  },
  {
   "cell_type": "code",
   "execution_count": 7,
   "metadata": {
    "collapsed": true
   },
   "outputs": [
    {
     "name": "stderr",
     "output_type": "stream",
     "text": [
      "/home/ukita/.pyenv/versions/anaconda3-4.4.0/lib/python3.6/site-packages/matplotlib/font_manager.py:1320: UserWarning: findfont: Font family ['sans-serif'] not found. Falling back to DejaVu Sans\n",
      "  (prop.get_family(), self.defaultFamily[fontext]))\n"
     ]
    },
    {
     "data": {
      "image/png": "[encoded data removed]",
      "text/plain": [
       "<matplotlib.figure.Figure at 0x7f650f2a0390>"
      ]
     },
     "metadata": {},
     "output_type": "display_data"
    }
   ],
   "source": [
    "plt.errorbar(range(40), resp_ind[0, :, 0, 3, 0], c='m', alpha=0.7)\n",
    "plt.errorbar(range(40), resp_ind[1, :, 0, 3, 0], c='c', alpha=0.7)\n",
    "plt.axvspan(0, stim_frames - 0.5, facecolor='r', alpha=0.3)\n",
    "plt.show()\n",
    "plt.close()"
   ]
  },
  {
   "cell_type": "code",
   "execution_count": 9,
   "metadata": {},
   "outputs": [
    {
     "name": "stdout",
     "output_type": "stream",
     "text": [
      "(500, 192, 224, 3)\n"
     ]
    }
   ],
   "source": [
    "stim = hickle.load('/export/public/ukita/prednet/stim/50frames192x224/MAE_P_deg0.hkl')\n",
    "print(stim.shape)\n",
    "\n",
    "stim_ = stim.reshape((10, 50, 192, 224, 3))"
   ]
  },
  {
   "cell_type": "code",
   "execution_count": 19,
   "metadata": {
    "collapsed": true
   },
   "outputs": [
    {
     "name": "stderr",
     "output_type": "stream",
     "text": [
      "/home/ukita/.pyenv/versions/anaconda3-4.4.0/lib/python3.6/site-packages/matplotlib/font_manager.py:1320: UserWarning: findfont: Font family ['sans-serif'] not found. Falling back to DejaVu Sans\n",
      "  (prop.get_family(), self.defaultFamily[fontext]))\n"
     ]
    },
    {
     "data": {
      "image/png": "[encoded data removed]",
      "text/plain": [
       "<matplotlib.figure.Figure at 0x7f650ea8ecc0>"
      ]
     },
     "metadata": {},
     "output_type": "display_data"
    },
    {
     "data": {
      "image/png": "[encoded data removed]",
      "text/plain": [
       "<matplotlib.figure.Figure at 0x7f6504db6668>"
      ]
     },
     "metadata": {},
     "output_type": "display_data"
    }
   ],
   "source": [
    "fig = plt.figure(figsize=(12, 6))\n",
    "for i in range(10):\n",
    "    ax = plt.subplot(2, 5, i + 1)\n",
    "    ax.plot(stim_[i, 10:50, 0, 3, 0])\n",
    "    ax.axvspan(0, stim_frames - 0.5, facecolor='r', alpha=0.3)\n",
    "    if i in range(5, 10):\n",
    "        ax.set_xlabel('Frame')\n",
    "    if i in [0, 5]:\n",
    "        ax.set_ylabel('Intensity')\n",
    "    ax.set_title('movie #' + str(i))\n",
    "plt.tight_layout()\n",
    "plt.show()\n",
    "    \n",
    "plt.plot(stim_[:, 10:50, 0, 3, 0].mean(axis=0))\n",
    "plt.axvspan(0, stim_frames - 0.5, facecolor='r', alpha=0.3)\n",
    "plt.xlabel('Frame')\n",
    "plt.ylabel('Intensity')\n",
    "plt.show()"
   ]
  }
 ],
 "metadata": {
  "kernelspec": {
   "display_name": "Python 3",
   "language": "python",
   "name": "python3"
  },
  "language_info": {
   "codemirror_mode": {
    "name": "ipython",
    "version": 3
   },
   "file_extension": ".py",
   "mimetype": "text/x-python",
   "name": "python",
   "nbconvert_exporter": "python",
   "pygments_lexer": "ipython3",
   "version": "3.6.6"
  }
 },
 "nbformat": 4,
 "nbformat_minor": 2
}
